{
 "cells": [
  {
   "cell_type": "code",
   "execution_count": null,
   "metadata": {
    "id": "LSdBsLUSBhe0"
   },
   "outputs": [],
   "source": [
    "import fitz"
   ]
  },
  {
   "cell_type": "code",
   "execution_count": null,
   "metadata": {
    "id": "19_x3snLI5EK"
   },
   "outputs": [],
   "source": [
    "import requests\n",
    "import json\n",
    "import datetime as dt"
   ]
  },
  {
   "cell_type": "code",
   "execution_count": null,
   "metadata": {
    "id": "gXKSueOx-HLG"
   },
   "outputs": [],
   "source": [
    "import pandas as pd"
   ]
  },
  {
   "cell_type": "markdown",
   "metadata": {
    "id": "GqJAnDl4H5qt"
   },
   "source": [
    "# Extraccion de informacion completa como texto desde el archivo"
   ]
  },
  {
   "cell_type": "code",
   "execution_count": null,
   "metadata": {
    "id": "kYIBCcXW0GBH"
   },
   "outputs": [],
   "source": [
    "\n",
    "from PIL import Image\n",
    "import pytesseract\n",
    "\n",
    "def extract_text(pdf_or_image_path):\n",
    "    # Check if the file is a PDF\n",
    "    if pdf_or_image_path.lower().endswith('.pdf'):\n",
    "        return extract_text_from_pdf(pdf_or_image_path)\n",
    "    # Check if the file is an image\n",
    "    elif pdf_or_image_path.lower().endswith(('.jpg', '.jpeg', '.png')):\n",
    "        return extract_text_from_image(pdf_or_image_path)\n",
    "    else:\n",
    "        raise ValueError(\"Unsupported file format\")\n",
    "\n",
    "def extract_text_from_pdf(pdf_path):\n",
    "    pdf_document = fitz.open(pdf_path)\n",
    "    text_result = []\n",
    "\n",
    "    for i in range(pdf_document.page_count):\n",
    "        page = pdf_document[i]\n",
    "        page_text = page.get_text(\"text\").strip()\n",
    "        text_result.append(page_text)\n",
    "\n",
    "    pdf_document.close()\n",
    "    return text_result\n",
    "\n",
    "def extract_text_from_image(image_path):\n",
    "\n",
    "    image = Image.open(image_path)\n",
    "    text = pytesseract.image_to_string(image).strip()\n",
    "    return text\n",
    "# Example usage\n",
    "file_path = \"/content/FORMULA.pdf\"  # Replace with the path to your PDF or image file\n",
    "result = extract_text(file_path)\n",
    "#print(result['text'])  # Accessing text from the first page\n"
   ]
  },
  {
   "cell_type": "code",
   "execution_count": null,
   "metadata": {
    "id": "51NkmsG5-PjN"
   },
   "outputs": [],
   "source": [
    "info_request = result[0]"
   ]
  },
  {
   "cell_type": "markdown",
   "metadata": {
    "id": "mVlF-235Hr0z"
   },
   "source": [
    "# Estructuracion Usando Modelo GPT-3.5"
   ]
  },
  {
   "cell_type": "markdown",
   "metadata": {
    "id": "IYJ0pmbiyi8c"
   },
   "source": [
    "## Estructuracion de informacion desde la tabla o DataFrame"
   ]
  },
  {
   "cell_type": "code",
   "execution_count": null,
   "metadata": {
    "id": "vjeR0h47MpVM"
   },
   "outputs": [],
   "source": [
    "prompt = pd.read_excel(\"mensaje prompt gpt.xlsx\")"
   ]
  },
  {
   "cell_type": "code",
   "execution_count": null,
   "metadata": {
    "id": "gOjS1C7p1QjB"
   },
   "outputs": [],
   "source": []
  },
  {
   "cell_type": "code",
   "execution_count": null,
   "metadata": {
    "colab": {
     "base_uri": "https://localhost:8080/"
    },
    "id": "zvOrLi6FD0q1",
    "outputId": "bd5c0cdd-7505-4573-9292-8d3fd5f46ca8"
   },
   "outputs": [
    {
     "name": "stdout",
     "output_type": "stream",
     "text": [
      "200\n",
      "{'data': {'id': 'chatcmpl-8pMoEnKSnWaKCIfrXtCXEAjRPY8eO', 'object': 'chat.completion', 'created': 1707253098.0, 'model': 'gpt-35-turbo-16k', 'choices': [{'finish_reason': 'stop', 'index': 0.0, 'message': {'role': 'assistant', 'content': '{\\n \"ACETAMINOFEN 500 mg TABLETA o CAPSULA (RAPIDA ABSORCION)\": {\\n  \"CANTIDAD\": 90,\\n  \"UNIDAD\": \"Tableta o Cápsula\",\\n  \"CANTIDAD TIEMPO DE TRATAMIENTO\": 30,\\n  \"TIEMPO DE TRATAMIENTO\": \"Día\"\\n },\\n \"LIDOCAINA 5 % SISTEMA TRANSDERMICO (PARCHE) 700mg SOBRE\": {\\n  \"CANTIDAD\": 5,\\n  \"UNIDAD\": \"Sobre\",\\n  \"CANTIDAD TIEMPO DE TRATAMIENTO\": 30,\\n  \"TIEMPO DE TRATAMIENTO\": \"Día\"\\n },\\n \"MÉDICO QUE PRESCRIBE\": \"ANA MERCEDES NOVOA RODRIGUEZ\",\\n \"FECHA DE ORDEN\": \"2023-12-01\",\\n \"ENTIDAD\": \"ARL\",\\n \"DIAGNOSTICO\": \"M770\"\\n}'}}], 'usage': {'prompt_tokens': 1551.0, 'completion_tokens': 223.0, 'total_tokens': 1774.0}}}\n"
     ]
    }
   ],
   "source": [
    "\n",
    "mensaje = str(info_request)\n",
    "mensaje_system = prompt.Mensaje.values[1]\n",
    "headers = {\n",
    "    \"channel\": \"\",\n",
    "    \"invoke-date\": \"\",\n",
    "    \"enviroment_channel\": \"\",\n",
    "    \"x-api-key\": \"\"\n",
    "}\n",
    "\n",
    "data = {\n",
    "    \"iaType\": \"azure\",\n",
    "    \"portal\": \"\",\n",
    "    \"data\": {\n",
    "        \"model\": \"gpt-3.5-turbo-16k\",\n",
    "        \"messages\": [\n",
    "            {\n",
    "                \"role\": \"system\",\n",
    "                \"content\": mensaje_system\n",
    "            },\n",
    "            {\n",
    "                \"role\": \"user\",\n",
    "                \"content\": mensaje\n",
    "            }\n",
    "        ],\n",
    "        \"max_tokens\": 1800,\n",
    "        \"temperature\": 0,\n",
    "        \"top_p\": 1\n",
    "    }\n",
    "}\n",
    "\n",
    "# Convert data to JSON format\n",
    "json_data = json.dumps(data)\n",
    "\n",
    "# Make the POST request\n",
    "response = requests.post(url, headers=headers, data=json_data)\n",
    "\n",
    "# Print the response\n",
    "print(response.status_code)\n",
    "print(response.json())"
   ]
  },
  {
   "cell_type": "code",
   "execution_count": null,
   "metadata": {
    "colab": {
     "base_uri": "https://localhost:8080/"
    },
    "id": "lRflthiKlOOg",
    "outputId": "0694afac-f4c2-4ba9-f72a-4d19ef658bfa"
   },
   "outputs": [
    {
     "data": {
      "text/plain": [
       "['{',\n",
       " ' \"ACETAMINOFEN 500 mg TABLETA o CAPSULA (RAPIDA ABSORCION)\": {',\n",
       " '  \"CANTIDAD\": 90,',\n",
       " '  \"UNIDAD\": \"Tableta o Cápsula\",',\n",
       " '  \"CANTIDAD TIEMPO DE TRATAMIENTO\": 30,',\n",
       " '  \"TIEMPO DE TRATAMIENTO\": \"Día\"',\n",
       " ' },',\n",
       " ' \"LIDOCAINA 5 % SISTEMA TRANSDERMICO (PARCHE) 700mg SOBRE\": {',\n",
       " '  \"CANTIDAD\": 5,',\n",
       " '  \"UNIDAD\": \"Sobre\",',\n",
       " '  \"CANTIDAD TIEMPO DE TRATAMIENTO\": 30,',\n",
       " '  \"TIEMPO DE TRATAMIENTO\": \"Día\"',\n",
       " ' },',\n",
       " ' \"MÉDICO QUE PRESCRIBE\": \"CAROLINA R......",',\n",
       " ' \"FECHA DE ORDEN\": \"2023-12-01\",',\n",
       " ' \"ENTIDAD\": \"ARL\",',\n",
       " ' \"DIAGNOSTICO\": \"M770\"',\n",
       " '}']"
      ]
     },
     "execution_count": 78,
     "metadata": {},
     "output_type": "execute_result"
    }
   ],
   "source": [
    "response.json()[\"data\"][\"choices\"][0][\"message\"][\"content\"].split(\"\\n\")"
   ]
  },
  {
   "cell_type": "code",
   "execution_count": null,
   "metadata": {
    "id": "BKDQJxL--1IL"
   },
   "outputs": [],
   "source": []
  }
 ],
 "metadata": {
  "colab": {
   "provenance": []
  },
  "kernelspec": {
   "display_name": "Python 3 (ipykernel)",
   "language": "python",
   "name": "python3"
  },
  "language_info": {
   "codemirror_mode": {
    "name": "ipython",
    "version": 3
   },
   "file_extension": ".py",
   "mimetype": "text/x-python",
   "name": "python",
   "nbconvert_exporter": "python",
   "pygments_lexer": "ipython3",
   "version": "3.9.12"
  }
 },
 "nbformat": 4,
 "nbformat_minor": 1
}
